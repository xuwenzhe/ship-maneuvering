{
 "cells": [
  {
   "cell_type": "markdown",
   "metadata": {},
   "source": [
    "# NA540 Homework 8 - Estimation of Maneuvering Dynamics\n",
    "\n",
    "MEMORANDUM\n",
    "\n",
    "**DATE:** 12/04/2019\n",
    "\n",
    "**TO:** A.W.Troesch, NA 540 Instructor\n",
    "\n",
    "**FROM:** Wenzhe Xu, NA 540 Student\n",
    "\n",
    "**RE:** NA540 Homework 8, Estimation of maneuvering dynamics.\n",
    "\n",
    "\n",
    "## Executive Summary\n",
    "\n",
    "This homework is to "
   ]
  },
  {
   "cell_type": "markdown",
   "metadata": {},
   "source": [
    "## Problem 1\n"
   ]
  },
  {
   "cell_type": "code",
   "execution_count": 1,
   "metadata": {},
   "outputs": [],
   "source": [
    "import math\n",
    "\n",
    "def VO6(x, ui): \n",
    "    \"\"\"\n",
    "    returns the time derivates of the state vector\n",
    "    \n",
    "    INPUTS: \n",
    "    x = [u v r psi xpos ypos delta]\n",
    "    u      = perturbed surge velocity [m/s]\n",
    "    v      = perturbed sway velocity [m/s]\n",
    "    r      = perturbed yaw velocity [rad/s]\n",
    "    psi    = perturbed yaw angle [rad]\n",
    "    xpos   = position in x-direction [m]\n",
    "    ypos   = position in y-direction [m]\n",
    "    delta  = actual rudder angle [rad]\n",
    "    \n",
    "    ui = delta_c, commanded rudder angle [rad]\n",
    "    Reference: M.S. Chislett and J. Stroem-Tejsen (1965)\n",
    "               Planar Motion Mechanism Tests and Full-Scale Steering\n",
    "               and Maneuvering Predictions for a Mariner Class Vessel,\n",
    "               Technical Report Hy-5\n",
    "               Hydro- and Aerodynamics Laboratory, Lyngby, Denmark.\n",
    "    \"\"\"\n",
    "    if len(x) != 7:\n",
    "        return []\n",
    "    \n",
    "    # Nominal Velocity [m/s]\n",
    "    U0 = 7.7175 # m/s, about 15 knots\n",
    "    V0 = 0.0\n",
    "    \n",
    "    # Normalization variables\n",
    "    L = 160.93\n",
    "    U = math.sqrt((U0 + x[0])**2 + x[1]**2)\n",
    "    \n",
    "    # Non-dimensional states and inputs\n",
    "    delta_c = ui;\n",
    "    \n",
    "    u     = x[0]/U\n",
    "    v     = x[1]/U\n",
    "    r     = x[2]*L/U\n",
    "    psi   = x[3]\n",
    "    delta = x[6]\n",
    "    \n",
    "    # Parameters, hydrodynamic derivatives and main dimensions\n",
    "    delta_max = 10 # max rudder angle [deg]\n",
    "    Ddelta_max = 5 # max rudder derivative [deg/s]\n",
    "    \n",
    "    m  = 798e-5\n",
    "    Iz = 39.2e-5\n",
    "    xG = -0.023\n",
    "    \n",
    "    Xudot =  -42e-5;   Yvdot =  -748e-5;   Nvdot = 4.646e-5;\n",
    "    Xu    = -184e-5;   Yrdot =-9.354e-5;   Nrdot = -4.38e-5;\n",
    "    Xuu   = -110e-5;   Yv    = -1160e-5;   Nv    =  -264e-5;\n",
    "    Xuuu  = -215e-5;   Yr    =  -499e-5;   Nr    =  -166e-5;\n",
    "    Xvv   = -899e-5;   Yvvv  = -8078e-5;   Nvvv  =  1636e-5;\n",
    "    Xrr   =   18e-5;   Yvvr  = 15356e-5;   Nvvr  = -5483e-5;\n",
    "    Xdd   =  -95e-5;   Yvu   = -1160e-5;   Nvu   =  -264e-5;\n",
    "    Xudd  = -190e-5;   Yru   =  -499e-5;   Nru   =  -166e-5;\n",
    "    Xrv   =  798e-5;   Yd    =   278e-5;   Nd    =  -139e-5;\n",
    "    Xvd   =   93e-5;   Yddd  =   -90e-5;   Nddd  =    45e-5;\n",
    "    Xuvd  =   93e-5;   Yud   =   556e-5;   Nud   =  -278e-5;                   \n",
    "                       \n",
    "    Yuud  =   278e-5;   Nuud  =  -139e-5;                   \n",
    "    Yvdd  =    -4e-5;   Nvdd  =    13e-5;                   \n",
    "    Yvvd  =  1190e-5;   Nvvd  =  -489e-5;                   \n",
    "    Y0    =    -4e-5;   N0    =     3e-5;                   \n",
    "    Y0u   =    -8e-5;   N0u   =     6e-5;                   \n",
    "    Y0uu  =    -4e-5;   N0uu  =     3e-5;\n",
    "    \n",
    "#     # assert control-fixed stability, C > 0\n",
    "#     C = Yv * Nr - Nv * Yr\n",
    "#     assert C > 0\n",
    "    \n",
    "    # Masses and moments of inertia\n",
    "    m11 = m-Xudot\n",
    "    m22 = m-Yvdot\n",
    "    m23 = m*xG-Yrdot\n",
    "    m32 = m*xG-Nvdot\n",
    "    m33 = Iz-Nrdot\n",
    "    \n",
    "    # Rudder saturation and dynamics\n",
    "    if abs(delta_c) >= delta_max*math.pi/180:\n",
    "        delta_c = delta_max*math.pi/180 if delta_c > 0 else -delta_max*np.pi/180\n",
    "    delta_dot = delta_c - delta\n",
    "    if abs(delta_dot) >= Ddelta_max*math.pi/180:\n",
    "        delta_dot = Ddelta_max*math.pi/180 if delta_dot > 0 else -Ddelta_max*np.pi/180\n",
    "        \n",
    "    # Forces and moments\n",
    "    X = Xu*u + Xuu*u**2 + Xuuu*u**3 + Xvv*v**2 + Xrr*r**2 + Xrv*r*v + Xdd*delta**2 + \\\n",
    "        Xudd*u*delta**2 + Xvd*v*delta + Xuvd*u*v*delta\n",
    "    Y = Yv*v + Yr*r + Yvvv*v**3 + Yvvr*v**2*r + Yvu*v*u + Yru*r*u + Yd*delta + \\\n",
    "        Yddd*delta**3 + Yud*u*delta + Yuud*u**2*delta + Yvdd*v*delta**2 + \\\n",
    "        Yvvd*v**2*delta + (Y0 + Y0u*u + Y0uu*u**2)\n",
    "    N = Nv*v + Nr*r + Nvvv*v**3 + Nvvr*v**2*r + Nvu*v*u + Nru*r*u + Nd*delta + \\\n",
    "        Nddd*delta**3 + Nud*u*delta + Nuud*u**2*delta + Nvdd*v*delta**2 + \\\n",
    "        Nvvd*v**2*delta + (N0 + N0u*u + N0uu*u**2)\n",
    "    \n",
    "    # Dimensional state derivative\n",
    "    xdot = [X*(U**2/L)/m11,\n",
    "            -(-m33*Y+m23*N)*(U**2/L)/(m22*m33-m23*m32),\n",
    "            (-m32*Y+m22*N)*(U**2/L**2)/(m22*m33-m23*m32),\n",
    "            r*(U/L),\n",
    "            (math.cos(psi)*(U0/U+u) - math.sin(psi)*v)*U,\n",
    "            (math.sin(psi)*(U0/U+u) + math.cos(psi)*v)*U,\n",
    "            delta_dot]\n",
    "    \n",
    "    return xdot"
   ]
  },
  {
   "cell_type": "code",
   "execution_count": 7,
   "metadata": {},
   "outputs": [],
   "source": [
    "import numpy as np\n",
    "\n",
    "def sim_Euler_Explicit(x0, u, time):\n",
    "    assert len(u) == len(time)\n",
    "    dt = time[1] - time[0]\n",
    "    res = np.zeros((len(time), 7)) # state vector dimension = 7\n",
    "    res[0,:] = x0\n",
    "    for i in range(1, len(time)):\n",
    "        res[i,:] = res[i-1,:] + dt * np.array(VO6(res[i-1,:], u[i-1]))\n",
    "    return res\n",
    "\n",
    "\n",
    "time = np.arange(0, 500, 0.5)\n",
    "# u_const = np.ones(time.shape) * 2*np.pi/180\n",
    "u_const = np.zeros(time.shape)\n",
    "simulations = sim_Euler_Explicit([0.0]*7, u_const, time)"
   ]
  },
  {
   "cell_type": "code",
   "execution_count": 8,
   "metadata": {},
   "outputs": [
    {
     "data": {
      "image/png": "[encoded data removed]",
      "text/plain": [
       "<Figure size 432x288 with 1 Axes>"
      ]
     },
     "metadata": {
      "needs_background": "light"
     },
     "output_type": "display_data"
    }
   ],
   "source": [
    "import matplotlib.pyplot as plt\n",
    "\n",
    "plt.figure()\n",
    "plt.plot(simulations[:,4], simulations[:,5])\n",
    "plt.show()"
   ]
  },
  {
   "cell_type": "code",
   "execution_count": 6,
   "metadata": {},
   "outputs": [
    {
     "data": {
      "text/plain": [
       "[4.319193922113506,\n",
       " -2.30775575395289,\n",
       " -0.3389203458924941,\n",
       " 0.9999999999999999,\n",
       " 3.8686143665976123,\n",
       " 7.875825615930979,\n",
       " -0.08726646259971647]"
      ]
     },
     "execution_count": 6,
     "metadata": {},
     "output_type": "execute_result"
    }
   ],
   "source": [
    "VO6(np.ones(7), 1)"
   ]
  },
  {
   "cell_type": "code",
   "execution_count": null,
   "metadata": {},
   "outputs": [],
   "source": []
  }
 ],
 "metadata": {
  "kernelspec": {
   "display_name": "Python 3",
   "language": "python",
   "name": "python3"
  },
  "language_info": {
   "codemirror_mode": {
    "name": "ipython",
    "version": 3
   },
   "file_extension": ".py",
   "mimetype": "text/x-python",
   "name": "python",
   "nbconvert_exporter": "python",
   "pygments_lexer": "ipython3",
   "version": "3.7.4"
  }
 },
 "nbformat": 4,
 "nbformat_minor": 2
}
